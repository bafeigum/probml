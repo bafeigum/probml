{
 "cells": [
  {
   "cell_type": "code",
   "execution_count": 1,
   "metadata": {},
   "outputs": [],
   "source": [
    "%matplotlib inline\n",
    "from scipy import sparse\n",
    "import matplotlib.pyplot as plt\n",
    "import numpy as np\n",
    "import struct\n",
    "import time\n",
    "\n",
    "from utils import read_data"
   ]
  },
  {
   "cell_type": "markdown",
   "metadata": {},
   "source": [
    "### Grab data"
   ]
  },
  {
   "cell_type": "code",
   "execution_count": 2,
   "metadata": {},
   "outputs": [],
   "source": [
    "train_images = read_data.get_mnist_data(read_data.MNIST_TRAIN_IMAGES_URL).astype('int32')\n",
    "train_labels = read_data.get_mnist_data(read_data.MNIST_TRAIN_LABELS_URL)\n",
    "test_images = read_data.get_mnist_data(read_data.MNIST_TEST_IMAGES_URL).astype('int32')\n",
    "test_labels = read_data.get_mnist_data(read_data.MNIST_TEST_LABELS_URL)"
   ]
  },
  {
   "cell_type": "markdown",
   "metadata": {},
   "source": [
    "### Pull random sample from test and display label"
   ]
  },
  {
   "cell_type": "code",
   "execution_count": 3,
   "metadata": {},
   "outputs": [
    {
     "name": "stdout",
     "output_type": "stream",
     "text": [
      "0\n"
     ]
    },
    {
     "data": {
      "image/png": "[encoded data removed]",
      "text/plain": [
       "<Figure size 432x288 with 1 Axes>"
      ]
     },
     "metadata": {
      "needs_background": "light"
     },
     "output_type": "display_data"
    }
   ],
   "source": [
    "sample_test = np.random.randint(0,1000)\n",
    "img = test_images[sample_test,:,:]\n",
    "plt.imshow(img)\n",
    "print(test_labels[sample_test])"
   ]
  },
  {
   "cell_type": "code",
   "execution_count": 4,
   "metadata": {},
   "outputs": [],
   "source": [
    "#for i in range(test_images.shape[0]):\n",
    "#    np.random.shuffle(test_images[i].T)\n",
    "#for i in range(train_images.shape[0]):\n",
    "#    np.random.shuffle(train_images[i].T)"
   ]
  },
  {
   "cell_type": "code",
   "execution_count": 5,
   "metadata": {},
   "outputs": [
    {
     "name": "stdout",
     "output_type": "stream",
     "text": [
      "0\n"
     ]
    },
    {
     "data": {
      "image/png": "[encoded data removed]",
      "text/plain": [
       "<Figure size 432x288 with 1 Axes>"
      ]
     },
     "metadata": {
      "needs_background": "light"
     },
     "output_type": "display_data"
    }
   ],
   "source": [
    "img = test_images[sample_test,:,:]\n",
    "plt.imshow(img)\n",
    "print(test_labels[sample_test])"
   ]
  },
  {
   "cell_type": "markdown",
   "metadata": {},
   "source": [
    "### Sampling"
   ]
  },
  {
   "cell_type": "code",
   "execution_count": 6,
   "metadata": {},
   "outputs": [],
   "source": [
    "test_samples = 1000 #Size of test data\n",
    "test_labels = test_labels[:test_samples]\n",
    "test_images = test_images[:test_samples,:]"
   ]
  },
  {
   "cell_type": "markdown",
   "metadata": {},
   "source": [
    "### Flattens images into sparse vectors. So we go from 3D to 3D image datasets"
   ]
  },
  {
   "cell_type": "code",
   "execution_count": 7,
   "metadata": {},
   "outputs": [],
   "source": [
    "def Flatten(Ims):\n",
    "    return(sparse.csr_matrix(Ims.reshape(Ims.shape[0],-1)))\n",
    "\n",
    "train_images = Flatten(train_images)\n",
    "test_images = Flatten(test_images)"
   ]
  },
  {
   "cell_type": "code",
   "execution_count": 8,
   "metadata": {},
   "outputs": [],
   "source": [
    "#Calculating squared vector norms\n",
    "train_norms = np.array([train_images[i,:]*train_images[i,:].T.toarray() for i in range(train_images.shape[0])]).reshape(-1,1)\n",
    "\n",
    "def PredictandError(testims, testlabels, trainims, trainlabels):\n",
    "    #This is not technically a distance - we are leaving out the Test squared norms because they are constant\n",
    "    #When determining a nearest neighbor.\n",
    "    distances = train_norms*np.ones(testims.shape[0]).T - 2*trainims*testims.T \n",
    "    \n",
    "    predictions = trainlabels[np.argmin(distances,axis=0)]\n",
    "    \n",
    "    error = 1 - np.mean(np.equal(predictions, testlabels))\n",
    "    return(error*100)"
   ]
  },
  {
   "cell_type": "code",
   "execution_count": 9,
   "metadata": {},
   "outputs": [],
   "source": [
    "t0 = time.time()\n",
    "bucket_size = 1000\n",
    "errors = []\n",
    "for i in range(0,len(test_labels),bucket_size):\n",
    "    errors.append(PredictandError(test_images[i:(i+bucket_size)], test_labels[i:(i+bucket_size)], train_images, train_labels))\n",
    "t1 =time.time()"
   ]
  },
  {
   "cell_type": "code",
   "execution_count": 10,
   "metadata": {},
   "outputs": [
    {
     "name": "stdout",
     "output_type": "stream",
     "text": [
      "error:3.8000000000000034\n",
      "Time taken:9.47829294204712\n"
     ]
    }
   ],
   "source": [
    "#Since the buckets are equal size, we can average the errors\n",
    "print('error:' + str(np.mean(errors)))\n",
    "print('Time taken:' + str(t1-t0))"
   ]
  }
 ],
 "metadata": {
  "kernelspec": {
   "display_name": "Python 3",
   "language": "python",
   "name": "python3"
  },
  "language_info": {
   "codemirror_mode": {
    "name": "ipython",
    "version": 3
   },
   "file_extension": ".py",
   "mimetype": "text/x-python",
   "name": "python",
   "nbconvert_exporter": "python",
   "pygments_lexer": "ipython3",
   "version": "3.7.1"
  }
 },
 "nbformat": 4,
 "nbformat_minor": 2
}
