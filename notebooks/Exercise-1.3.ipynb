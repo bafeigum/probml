{
 "cells": [
  {
   "cell_type": "markdown",
   "metadata": {},
   "source": [
    "# Run Exercise 1.1 with nearest neighbor algorithm with FLANN to determine speedup and accuracy differences"
   ]
  },
  {
   "cell_type": "code",
   "execution_count": 1,
   "metadata": {},
   "outputs": [],
   "source": [
    "%matplotlib inline\n",
    "import matplotlib.pyplot as plt\n",
    "import numpy as np\n",
    "import time\n",
    "from pyflann import *\n",
    "\n",
    "from utils import read_data"
   ]
  },
  {
   "cell_type": "markdown",
   "metadata": {},
   "source": [
    "### Grab data"
   ]
  },
  {
   "cell_type": "code",
   "execution_count": 2,
   "metadata": {},
   "outputs": [],
   "source": [
    "train_images = read_data.get_mnist_data(read_data.MNIST_TRAIN_IMAGES_URL).astype('int32')\n",
    "train_labels = read_data.get_mnist_data(read_data.MNIST_TRAIN_LABELS_URL)\n",
    "test_images = read_data.get_mnist_data(read_data.MNIST_TEST_IMAGES_URL).astype('int32')\n",
    "test_labels = read_data.get_mnist_data(read_data.MNIST_TEST_LABELS_URL)"
   ]
  },
  {
   "cell_type": "markdown",
   "metadata": {},
   "source": [
    "### Pull random sample from test and display label"
   ]
  },
  {
   "cell_type": "code",
   "execution_count": 3,
   "metadata": {},
   "outputs": [
    {
     "name": "stdout",
     "output_type": "stream",
     "text": [
      "9\n"
     ]
    },
    {
     "data": {
      "image/png": "[encoded data removed]",
      "text/plain": [
       "<Figure size 432x288 with 1 Axes>"
      ]
     },
     "metadata": {
      "needs_background": "light"
     },
     "output_type": "display_data"
    }
   ],
   "source": [
    "sample_test = np.random.randint(0,1000)\n",
    "img = test_images[sample_test,:,:]\n",
    "plt.imshow(img)\n",
    "print(test_labels[sample_test])"
   ]
  },
  {
   "cell_type": "markdown",
   "metadata": {},
   "source": [
    "### Shuffle all rows"
   ]
  },
  {
   "cell_type": "code",
   "execution_count": 4,
   "metadata": {},
   "outputs": [],
   "source": [
    "seed = np.random.randint(100)\n",
    "# Get a random seed, but shuffle all matrices the same way\n",
    "for i in range(test_images.shape[0]):\n",
    "    np.random.seed(seed)\n",
    "    np.random.shuffle(test_images[i])\n",
    "for i in range(train_images.shape[0]):\n",
    "    np.random.seed(seed)\n",
    "    np.random.shuffle(train_images[i])"
   ]
  },
  {
   "cell_type": "code",
   "execution_count": 5,
   "metadata": {},
   "outputs": [
    {
     "name": "stdout",
     "output_type": "stream",
     "text": [
      "9\n"
     ]
    },
    {
     "data": {
      "image/png": "[encoded data removed]",
      "text/plain": [
       "<Figure size 432x288 with 1 Axes>"
      ]
     },
     "metadata": {
      "needs_background": "light"
     },
     "output_type": "display_data"
    }
   ],
   "source": [
    "img = test_images[sample_test,:,:]\n",
    "plt.imshow(img)\n",
    "print(test_labels[sample_test])"
   ]
  },
  {
   "cell_type": "markdown",
   "metadata": {},
   "source": [
    "### Sampling\n",
    "pyflann is so must faster, running the entire dataset completes in a reasonable amount of time"
   ]
  },
  {
   "cell_type": "code",
   "execution_count": 6,
   "metadata": {},
   "outputs": [],
   "source": [
    "#test_samples = 1000 #Size of test data\n",
    "#test_labels = test_labels[:test_samples]\n",
    "#test_images = test_images[:test_samples,:]"
   ]
  },
  {
   "cell_type": "markdown",
   "metadata": {},
   "source": [
    "### Flatten to 2d array for flann"
   ]
  },
  {
   "cell_type": "code",
   "execution_count": 7,
   "metadata": {},
   "outputs": [],
   "source": [
    "test_images = test_images.reshape(test_images.shape[0],-1)\n",
    "train_images = train_images.reshape(train_images.shape[0],-1)"
   ]
  },
  {
   "cell_type": "markdown",
   "metadata": {},
   "source": [
    "### Run NN from pyflann"
   ]
  },
  {
   "cell_type": "code",
   "execution_count": 12,
   "metadata": {},
   "outputs": [
    {
     "name": "stdout",
     "output_type": "stream",
     "text": [
      "(10000,) (10000,)\n",
      "(10000, 5) (10000,)\n",
      "(10000, 10) (10000,)\n",
      "(10000, 20) (10000,)\n",
      "(10000, 50) (10000,)\n",
      "(10000, 100) (10000,)\n",
      "(10000, 120) (10000,)\n"
     ]
    }
   ],
   "source": [
    "t0 = time.time()\n",
    "errors = []\n",
    "ks = [1, 5, 10, 20, 50, 100, 120]\n",
    "for k in ks:\n",
    "    flann = FLANN()\n",
    "    result, dists = flann.nn(train_images, test_images, k) \n",
    "    if k > 1:\n",
    "        top_result = result[:,0]\n",
    "    else:\n",
    "        top_result = result\n",
    "    print(result.shape, top_result.shape)\n",
    "    errors.append(1 - np.mean(np.equal(train_labels[top_result], test_labels)))\n",
    "t1 =time.time()\n",
    "# Improve this by also calculating the error of the training set like Fig1.21(a)"
   ]
  },
  {
   "cell_type": "code",
   "execution_count": 9,
   "metadata": {},
   "outputs": [
    {
     "name": "stdout",
     "output_type": "stream",
     "text": [
      "error:[0.04959999999999998, 0.04830000000000001, 0.05069999999999997, 0.049799999999999955, 0.04290000000000005, 0.039000000000000035, 0.03859999999999997]\n",
      "Time taken:3.22949481010437\n"
     ]
    }
   ],
   "source": [
    "print('error:' + str(errors))\n",
    "print('Time taken:' + str(t1-t0))"
   ]
  },
  {
   "cell_type": "markdown",
   "metadata": {},
   "source": [
    "### Plot errors"
   ]
  },
  {
   "cell_type": "code",
   "execution_count": 10,
   "metadata": {},
   "outputs": [
    {
     "data": {
      "text/plain": [
       "Text(0, 0.5, 'misclassification rate')"
      ]
     },
     "execution_count": 10,
     "metadata": {},
     "output_type": "execute_result"
    },
    {
     "data": {
      "image/png": "[encoded data removed]",
      "text/plain": [
       "<Figure size 432x288 with 1 Axes>"
      ]
     },
     "metadata": {
      "needs_background": "light"
     },
     "output_type": "display_data"
    }
   ],
   "source": [
    "plt.figure()\n",
    "plt.plot(ks, errors)\n",
    "plt.xlabel('k')\n",
    "plt.ylabel('misclassification rate')"
   ]
  },
  {
   "cell_type": "markdown",
   "metadata": {},
   "source": [
    "### Appears that the misclassification rate decreases with increased K, versus Fig1.21(a) which decreases with increased k until k=120 where the misclassification rate goes back up"
   ]
  },
  {
   "cell_type": "code",
   "execution_count": null,
   "metadata": {},
   "outputs": [],
   "source": []
  }
 ],
 "metadata": {
  "kernelspec": {
   "display_name": "Python 3",
   "language": "python",
   "name": "python3"
  },
  "language_info": {
   "codemirror_mode": {
    "name": "ipython",
    "version": 3
   },
   "file_extension": ".py",
   "mimetype": "text/x-python",
   "name": "python",
   "nbconvert_exporter": "python",
   "pygments_lexer": "ipython3",
   "version": "3.7.1"
  }
 },
 "nbformat": 4,
 "nbformat_minor": 2
}
